{
 "cells": [
  {
   "cell_type": "code",
   "execution_count": null,
   "metadata": {},
   "outputs": [],
   "source": [
    "!pip install google-cloud-tasks==2.2.0"
   ]
  },
  {
   "cell_type": "code",
   "execution_count": null,
   "metadata": {},
   "outputs": [],
   "source": [
    "!gcloud config list"
   ]
  },
  {
   "cell_type": "code",
   "execution_count": null,
   "metadata": {},
   "outputs": [],
   "source": [
    "import json\n",
    "import csv\n",
    "import argparse\n",
    "import subprocess\n",
    "import urllib.parse\n",
    "from google.cloud import tasks_v2"
   ]
  },
  {
   "cell_type": "code",
   "execution_count": null,
   "metadata": {},
   "outputs": [],
   "source": [
    "# projet GCP\n",
    "result = subprocess.run(['gcloud', 'config', 'get-value', 'project'], stdout=subprocess.PIPE)\n",
    "project = result.stdout.decode('utf-8')[0:-1]\n",
    "#print(project)\n",
    "# liste des regions\n",
    "result = subprocess.run(['cat', './regions-list.txt'], stdout=subprocess.PIPE)\n",
    "regions = result.stdout.decode('utf-8').split('\\n')\n",
    "regions.pop()\n",
    "#print(regions)\n",
    "# liste des urls Cloud Run\n",
    "result = subprocess.run(['cat', './urls-list.txt'], stdout=subprocess.PIPE)\n",
    "urls = result.stdout.decode('utf-8').split('\\n')\n",
    "urls.pop()\n",
    "for i in range(0,9):\n",
    "    urls[i] = urls[i] + \"/gstroccurences\"\n",
    "    #print(urls)\n",
    "    # list des tasks queues\n",
    "    queues = []\n",
    "    for r in regions:\n",
    "        q = \"wsreqsqueue-\" + r\n",
    "        queues.append(q)\n",
    "        #print(queues)"
   ]
  },
  {
   "cell_type": "code",
   "execution_count": null,
   "metadata": {},
   "outputs": [],
   "source": [
    "# Create the clients\n",
    "clients = []\n",
    "for i in range(0,9):\n",
    "    clients.append(tasks_v2.CloudTasksClient())\n",
    "    # Construct the fully qualified queue names\n",
    "parents = []\n",
    "for i in range(0,9):\n",
    "    parents.append(clients[i].queue_path(project, 'europe-west1', queues[i]))\n",
    "print(parents)"
   ]
  },
  {
   "cell_type": "code",
   "execution_count": null,
   "metadata": {},
   "outputs": [],
   "source": [
    "def build_request(url, payload):\n",
    "    task = {\n",
    "        \"view\": tasks_v2.types.Task.View.FULL,\n",
    "        \"http_request\": {  # Specify the type of request.\n",
    "             #\"http_method\": tasks_v2.types.HttpMethod.POST,\n",
    "             \"url\": url,  # The full url path that the task will be sent to.\n",
    "             #\"oidc_token\": {\"service_account_email\": \"my-test-sa@pascal-sandbox.iam.gserviceaccount.com\"},\n",
    "         }\n",
    "    }\n",
    "\n",
    "    if payload is not None:\n",
    "        if isinstance(payload, dict):\n",
    "            # Convert dict to JSON string\n",
    "            payload = json.dumps(payload)\n",
    "            # specify http content-type to application/json\n",
    "            task[\"http_request\"][\"headers\"] = {\"Content-type\": \"application/json\"}\n",
    "\n",
    "        # The API expects a payload of type bytes.\n",
    "        converted_payload = payload.encode()\n",
    "\n",
    "        # Add the payload to the request.\n",
    "        task[\"http_request\"][\"body\"] = converted_payload\n",
    "\n",
    "    return task"
   ]
  },
  {
   "cell_type": "code",
   "execution_count": null,
   "metadata": {},
   "outputs": [],
   "source": [
    "def process_requests_file(tasks_client, parent, reqs_filename, run_url):\n",
    "    print(\"Processing file: \" + reqs_filename + \" to queue: \" + parent + \" for run to service: \" + run_url + \"\\n\")\n",
    "    with open(reqs_filename, newline='') as infile:\n",
    "        rowreader = csv.reader(infile, delimiter=';')\n",
    "        nb = 1\n",
    "        for row in rowreader:\n",
    "            if row[0]:\n",
    "                if row[1]:\n",
    "                    # To be modified according to the needs of '+' or not\n",
    "                    search = row[0] + \" \" + row[1]\n",
    "                else:\n",
    "                    # To be modified according to the needs of '+' or not\n",
    "                    search = row[0]\n",
    "            else:\n",
    "                    # To be modified according to the needs of '+' or not\n",
    "                search = row[1]\n",
    "            #print(search)\n",
    "            task = build_request(run_url, {'query': search, 'lexique': row[0], 'categorie': row[1]})\n",
    "            #print(\"creating task for string \" + search + \" = lex: \" + row[0] + \" + cat: \" + row[1])\n",
    "            response = tasks_client.create_task(request={\"parent\": parent, \"task\": task})\n",
    "            #print(\"Created task {}\".format(response.name) +  \"for string \" + search)\n",
    "            if nb % 1000 == 0:\n",
    "                print(reqs_filename + \" : \" + str(nb))\n",
    "                #print(search)\n",
    "                #print(task)\n",
    "            nb = nb + 1\n",
    "    return \"file {} processed\".format(reqs_filename)"
   ]
  },
  {
   "cell_type": "code",
   "execution_count": null,
   "metadata": {},
   "outputs": [],
   "source": [
    "region = 0\n",
    "process_requests_file(clients[region], parents[region], 'xaa', urls[region])"
   ]
  },
  {
   "cell_type": "code",
   "execution_count": null,
   "metadata": {},
   "outputs": [],
   "source": []
  }
 ],
 "metadata": {
  "environment": {
   "name": "common-cpu.m59",
   "type": "gcloud",
   "uri": "gcr.io/deeplearning-platform-release/base-cpu:m59"
  },
  "kernelspec": {
   "display_name": "Python 3",
   "language": "python",
   "name": "python3"
  },
  "language_info": {
   "codemirror_mode": {
    "name": "ipython",
    "version": 3
   },
   "file_extension": ".py",
   "mimetype": "text/x-python",
   "name": "python",
   "nbconvert_exporter": "python",
   "pygments_lexer": "ipython3",
   "version": "3.7.8"
  }
 },
 "nbformat": 4,
 "nbformat_minor": 4
}
